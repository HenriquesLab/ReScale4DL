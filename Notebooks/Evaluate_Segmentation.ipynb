{
 "cells": [
  {
   "cell_type": "markdown",
   "metadata": {},
   "source": [
    "# Statistics from label images"
   ]
  },
  {
   "cell_type": "code",
   "execution_count": null,
   "metadata": {},
   "outputs": [],
   "source": [
    "#Import required morphology library\n",
    "from rescale4dl.morphology import morphology"
   ]
  },
  {
   "cell_type": "markdown",
   "metadata": {},
   "source": [
    "## Provide user defined variables\n",
    "\n",
    "- Use **absolute pathing** for main directory\n",
    "Expected file arrangement: \n",
    "\n",
    "* main folder\n",
    "    * Saureus\n",
    "        * OG\n",
    "            * GT\n",
    "                * images.tiff\n",
    "            * Prediction\n",
    "                * images.tiff\n",
    "        * downsampling_2\n",
    "            * GT\n",
    "                * images.tiff\n",
    "            * Prediction\n",
    "                * images.tiff\n"
   ]
  },
  {
   "cell_type": "markdown",
   "metadata": {},
   "source": [
    "### Statistics"
   ]
  },
  {
   "cell_type": "code",
   "execution_count": null,
   "metadata": {},
   "outputs": [],
   "source": [
    "# Directory with folders of sampling folders with GT and Prediction folder pairs inside\n",
    "main_directory = '../Examples/rescaled_data/'\n",
    "\n",
    "# Calculate object properties statistics\n",
    "morphology(main_directory)\n"
   ]
  }
 ],
 "metadata": {
  "kernelspec": {
   "display_name": "rescale4dl_test",
   "language": "python",
   "name": "python3"
  },
  "language_info": {
   "codemirror_mode": {
    "name": "ipython",
    "version": 3
   },
   "file_extension": ".py",
   "mimetype": "text/x-python",
   "name": "python",
   "nbconvert_exporter": "python",
   "pygments_lexer": "ipython3",
   "version": "3.10.16"
  }
 },
 "nbformat": 4,
 "nbformat_minor": 4
}
