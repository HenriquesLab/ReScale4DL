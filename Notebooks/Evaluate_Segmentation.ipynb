{
 "cells": [
  {
   "cell_type": "markdown",
   "metadata": {},
   "source": [
    "# Analaysis of deep learning models segmentation performance for rescaled images\n",
    "This notebook allows to compare the results obtained for segmentation across image resolutions. The notebook will compute the following metrics and provide plots to visualise the results: \n",
    "- Mean Intersection-over-Union (IoU) as described in the Cell Tracking Challenge (True positives identified with a minimum of 50% overlap).\n",
    "- Morphological features\n",
    "- Theoretical throughput\n",
    "\n",
    "1. **INPUT_DIR**  \n",
    "   - Path to the folder containing the input images and the annotations, stored as `.tiff`files.\n",
    "   - The input directory is expected to have the following structure:\n",
    "        - **Saureus**\n",
    "            * **OG**\n",
    "                * GT\n",
    "                    - images.tiff\n",
    "                * Prediction\n",
    "                    - images.tiff\n",
    "            * **downsampling_2**\n",
    "                * GT\n",
    "                    - images.tiff\n",
    "                * Prediction\n",
    "                    - images.tiff\n",
    " \n",
    "   - Example: `/path/to/your/input`\n",
    "2. **DOWNSAMPLE_FACTORS**  \n",
    "\n",
    "**Expected output**:\n",
    "- A new folder (`Results`) in the main directory with `.csv`files containing the numerical data for the assessment.\n",
    "- Images of true positives, false positives, and false negatives for each image.\n",
    "\n"
   ]
  },
  {
   "cell_type": "markdown",
   "metadata": {},
   "source": [
    "### 1. Import dependencies"
   ]
  },
  {
   "cell_type": "code",
   "execution_count": null,
   "metadata": {},
   "outputs": [],
   "source": [
    "from rescale4dl.morphology import morphology\n",
    "from rescale4dl.morphology import generate_binary_semantic_box_plot, generate_semantic_gt_pred_bar_plot,\\\n",
    "generate_instance_box_plot, generate_instance_gt_pred_bar_plot, generate_instance_wt_treatment_bar_plot\n",
    "from rescale4dl.morphology import microscope_FOV_area, obj_per_microscope_FOV\n",
    "import shutil\n",
    "import os\n"
   ]
  },
  {
   "cell_type": "markdown",
   "metadata": {},
   "source": [
    "### 2. Compile statistics"
   ]
  },
  {
   "cell_type": "code",
   "execution_count": null,
   "metadata": {
    "scrolled": true
   },
   "outputs": [],
   "source": [
    "# Directory with folders of sampling folders with GT and Prediction folder pairs inside\n",
    "main_directory = '../Examples/segmentation_results/'\n",
    "\n",
    "# Calculate object properties statistics\n",
    "morphology(main_directory)\n"
   ]
  },
  {
   "cell_type": "markdown",
   "metadata": {},
   "source": [
    "### 3. Unzip example data from the paper\n",
    "We provide the results obtained with the experiments in ReScale4DL publication that can be used to reproduce the original plots in the publication. These are stored in ReScale4DL repository at `Examples/analysis_results`. \n",
    "Provide the following parameters: \n",
    "1. **DATASET**\n",
    "    - One of the following ones:\n",
    "        - `\"Saureus_instance_segmentation\", \"Deepbacs_Instance_Segmentation\", \"Deepbacs_Semantic_Segmentation\", \"Saureus_instance_segmentation_pc190723\", \"Saureus_instance_segmentation\", \"Worm_Semantic_Segmentation\"`\n",
    "3. **ANALYSIS_DIR**\n",
    "    - The absolute path to `\"Examples/analysis_results\"`\n"
   ]
  },
  {
   "cell_type": "code",
   "execution_count": null,
   "metadata": {},
   "outputs": [],
   "source": [
    "# Params\n",
    "DATASET = \"Deepbacs_Semantic_Segmentation\" \n",
    "ANALYSIS_DIR = \"/Users/esti/Documents/PROYECTOS/DOWNSAMPLING/ReScale4DL/Examples/analysis_results/\"\n",
    "\n",
    "# Unzip\n",
    "filename = os.path.join(ANALYSIS_DIR, f\"{DATASET}.zip\")\n",
    "extract_dir = os.path.join(ANALYSIS_DIR)\n",
    "shutil.unpack_archive(filename, extract_dir)"
   ]
  },
  {
   "cell_type": "markdown",
   "metadata": {},
   "source": [
    "### 4. Plot the results"
   ]
  },
  {
   "cell_type": "markdown",
   "metadata": {},
   "source": [
    "#### Semantic segmentation\n",
    "Example dataset = \"Deepbacs_Semantic_Segmentation\""
   ]
  },
  {
   "cell_type": "code",
   "execution_count": null,
   "metadata": {},
   "outputs": [],
   "source": [
    "ANALYSIS_DIR = \"/Users/esti/Documents/PROYECTOS/DOWNSAMPLING/ReScale4DL/Examples/analysis_results\"\n",
    "DATASET = \"Deepbacs_Semantic_Segmentation\"\n",
    "dataset_name_match_dict = {DATASET: \"Deepbacs\"}\n",
    "IMAGE_SIZES = os.path.join(ANALYSIS_DIR, \"pdf_metrics.csv\")\n",
    "\n",
    "fig_name = f\"IoU for {DATASET}\"\n",
    "y_axis = \"IoU\"\n",
    "\n",
    "output_path = os.path.join(ANALYSIS_DIR, DATASET, \"plots\")\n",
    "os.makedirs(output_path, exist_ok=True)\n",
    "\n",
    "generate_binary_semantic_box_plot(ANALYSIS_DIR,\n",
    "                                  DATASET,\n",
    "                                DATASET,\n",
    "                                fig_name, \n",
    "                                y_axis, \n",
    "                                thoughput_plot=True, \n",
    "                                y_axis_2 = \"Obj_per_FOV_mean\",\n",
    "                                metrics_csv_path=IMAGE_SIZES,\n",
    "                                dataset_name_match_dict=dataset_name_match_dict,\n",
    "                                output_path=output_path)"
   ]
  },
  {
   "cell_type": "markdown",
   "metadata": {},
   "source": [
    "#### Instance segmentation\n",
    "Example dataset = \"Saureus_instance_segmentation\""
   ]
  },
  {
   "cell_type": "code",
   "execution_count": null,
   "metadata": {},
   "outputs": [],
   "source": [
    "ANALYSIS_DIR = \"/Users/esti/Documents/PROYECTOS/DOWNSAMPLING/ReScale4DL/Examples/analysis_results\"\n",
    "DATASET = \"Saureus_instance_segmentation\"\n",
    "dataset_name_match_dict = {DATASET: \"Saureus_instance_segmentation\"}\n",
    "IMAGE_SIZES = os.path.join(ANALYSIS_DIR, \"pdf_metrics.csv\")\n",
    "\n",
    "fig_name = f\"IoU for {DATASET}\"\n",
    "y_axis = \"IoU\"\n",
    "\n",
    "output_path = os.path.join(ANALYSIS_DIR, DATASET, \"plots\")\n",
    "os.makedirs(output_path, exist_ok=True)\n",
    "\n",
    "generate_instance_box_plot(ANALYSIS_DIR, \n",
    "                           DATASET, \n",
    "                           fig_name, \n",
    "                           y_axis, \n",
    "                           thoughput_plot=True, \n",
    "                           y_axis_2 = \"Obj_per_FOV_mean\",\n",
    "                           metrics_csv_path=IMAGE_SIZES,\n",
    "                           dataset_name_match_dict=dataset_name_match_dict,\n",
    "                           output_path=output_path)"
   ]
  }
 ],
 "metadata": {
  "kernelspec": {
   "display_name": "Python 3 (ipykernel)",
   "language": "python",
   "name": "python3"
  },
  "language_info": {
   "codemirror_mode": {
    "name": "ipython",
    "version": 3
   },
   "file_extension": ".py",
   "mimetype": "text/x-python",
   "name": "python",
   "nbconvert_exporter": "python",
   "pygments_lexer": "ipython3",
   "version": "3.12.0"
  }
 },
 "nbformat": 4,
 "nbformat_minor": 4
}
