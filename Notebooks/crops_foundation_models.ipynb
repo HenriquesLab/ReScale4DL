{
 "cells": [
  {
   "cell_type": "markdown",
   "id": "a97d7e90-3bb4-4f1f-81e8-13b3c7bca75b",
   "metadata": {},
   "source": [
    "## Crop centered images of the same dimensions in pixels for Foundation models"
   ]
  },
  {
   "cell_type": "code",
   "execution_count": null,
   "id": "51b48c2d-fe7b-4392-8ff2-cba41a638b71",
   "metadata": {},
   "outputs": [],
   "source": [
    "import numpy as np\n",
    "from tifffile import imwrite, imread\n",
    "import os\n",
    "\n",
    "\n",
    "path2images = \"/Users/esti/Documents/PROYECTOS/DOWNSAMPLING/DATA4FM\"\n",
    "folder = \"STAPH/TIFF\"\n",
    "path = os.path.join(path2images, folder)\n",
    "os.makedirs(os.path.join(path, \"crops\"), exist_ok=True)\n",
    "\n",
    "def crop(path2image, shape=[512, 512]):\n",
    "    \n",
    "    im = imread(path2image)\n",
    "    im = np.squeeze(im)\n",
    "    new_im = np.zeros(shape=shape, dtype=im.dtype)\n",
    "    if im.shape[0]<shape[0] and im.shape[1]<shape[1]:\n",
    "        h = np.floor((shape[0] - im.shape[0])/2)\n",
    "        w = np.floor((shape[1] - im.shape[1])/2)\n",
    "        w = np.uint16(w)\n",
    "        h = np.uint16(h)\n",
    "        new_im[h:h+im.shape[0], w:w+im.shape[1]] = im\n",
    "    elif im.shape[0]<shape[0]:\n",
    "        h = np.floor((shape[0] - im.shape[0])/2)\n",
    "        w = np.floor(im.shape[1]/2)-np.floor(shape[1]/2)\n",
    "        w = np.uint16(w)\n",
    "        h = np.uint16(h)\n",
    "        new_im[h:h+im.shape[0]] = im[:, w:w+shape[1]]\n",
    "    elif im.shape[1]<shape[1]:\n",
    "        w = np.floor((shape[1] - im.shape[1])/2)\n",
    "        h = np.floor(im.shape[0]/2)-np.floor(shape[0]/2)\n",
    "        w = np.uint16(w)\n",
    "        h = np.uint16(h)\n",
    "        new_im[:,  w:w+im.shape[1]] = im[h:h+shape[0], :]\n",
    "    else:\n",
    "        w = np.floor(im.shape[1]/2)-np.floor(shape[1]/2)\n",
    "        h = np.floor(im.shape[0]/2)-np.floor(shape[0]/2)\n",
    "        w = np.uint16(w)\n",
    "        h = np.uint16(h)\n",
    "        new_im= im[h:h+shape[0], w:w+shape[1]]\n",
    "    print(f\"Cropped image of shape {new_im.shape} from an image of shape {im.shape}.\")\n",
    "    return new_im\n",
    "def process_folder(path, shape=[512, 512]):\n",
    "    images = [im for im in os.listdir(path) if im.__contains__(\".tif\")]\n",
    "    for  i in images: \n",
    "        cropped_im = crop(os.path.join(path, i), shape=shape)\n",
    "        imwrite(os.path.join(path, \"crops\", i), cropped_im)\n",
    "    print(\"Images processed\")\n",
    "        \n",
    "process_folder(path, shape=[512, 512])"
   ]
  },
  {
   "cell_type": "code",
   "execution_count": null,
   "id": "d4544c49-da7d-4e23-bdd6-068d1e56bca9",
   "metadata": {},
   "outputs": [],
   "source": []
  },
  {
   "cell_type": "code",
   "execution_count": null,
   "id": "85afdf6d-7f6b-40eb-9e6b-c686a961c87f",
   "metadata": {},
   "outputs": [],
   "source": []
  }
 ],
 "metadata": {
  "kernelspec": {
   "display_name": "Python 3 (ipykernel)",
   "language": "python",
   "name": "python3"
  },
  "language_info": {
   "codemirror_mode": {
    "name": "ipython",
    "version": 3
   },
   "file_extension": ".py",
   "mimetype": "text/x-python",
   "name": "python",
   "nbconvert_exporter": "python",
   "pygments_lexer": "ipython3",
   "version": "3.12.2"
  }
 },
 "nbformat": 4,
 "nbformat_minor": 5
}
