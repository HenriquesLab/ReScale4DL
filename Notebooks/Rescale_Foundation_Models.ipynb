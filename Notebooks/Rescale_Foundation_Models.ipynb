{
 "cells": [
  {
   "cell_type": "markdown",
   "id": "a97d7e90-3bb4-4f1f-81e8-13b3c7bca75b",
   "metadata": {},
   "source": [
    "# Prepare rescaled images to test models with a fixed input size (e.g., Foundation Models) \n",
    "\n",
    "- This notebook can be used to rescale an example 2D image and crop it so that all the rescaled versions of the image have the same shape in pixels, for example `512x512`. This is convenient to ensure that no tiling is done.\n",
    "- The notebook handles rescaling (up/down) and center-cropping/padding to target size. The code will center crop images larger than the required shape and add zero padding when too small.\n",
    "- The notebook expects `.tiff` images as inputs.\n"
   ]
  },
  {
   "cell_type": "markdown",
   "id": "20b29424-1453-4e2f-9f2e-a943d1ef369e",
   "metadata": {},
   "source": [
    "### 1. Import Dependencies"
   ]
  },
  {
   "cell_type": "code",
   "execution_count": null,
   "id": "0b1a1487-368e-4cf7-9c52-47d5b602fc27",
   "metadata": {},
   "outputs": [],
   "source": [
    "from rescale4dl.batch import rescale_and_crop   "
   ]
  },
  {
   "cell_type": "markdown",
   "id": "f18d3990-1ac8-43c4-8e7b-353eeb12e34d",
   "metadata": {},
   "source": [
    "### 2. Parameters Setup (Modify These!)"
   ]
  },
  {
   "cell_type": "code",
   "execution_count": null,
   "id": "55b6ad49-f659-436a-a0dd-880e75de0568",
   "metadata": {},
   "outputs": [],
   "source": [
    "INPUT_DIR = \"/Users/esti/Documents/PROYECTOS/DOWNSAMPLING/prueba/input\"  # Folder containing original TIFFs\n",
    "OUTPUT_DIR = \"/Users/esti/Documents/PROYECTOS/DOWNSAMPLING/prueba/output\"  # Will be created if not exists\n",
    "TARGET_SHAPE = (512, 512)  # (height, width) for final output\n",
    "SCALE_FACTOR = (0.1, 0.5, 1, 2)  # Magnification/demagnification factor\n",
    "SCALE_MODE = \"down\"  # \"up\" or \"down\" sampling\n",
    "SAVE_SCALED = True  # Whether to save intermediate scaled images"
   ]
  },
  {
   "cell_type": "markdown",
   "id": "a2d7fdb9-683f-4a42-8326-a5fe11560586",
   "metadata": {},
   "source": [
    "### 3. Execute Pipeline"
   ]
  },
  {
   "cell_type": "code",
   "execution_count": null,
   "id": "a1b366f6-e35b-4bc5-823f-5f622fb3dfc9",
   "metadata": {},
   "outputs": [],
   "source": [
    "rescale_and_crop(INPUT_DIR, OUTPUT_DIR, SCALE_FACTOR, TARGET_SHAPE, SAVE_SCALED)\n",
    "print(f\"Processing complete! Results saved to: {OUTPUT_DIR}\")"
   ]
  }
 ],
 "metadata": {
  "kernelspec": {
   "display_name": "Python 3 (ipykernel)",
   "language": "python",
   "name": "python3"
  },
  "language_info": {
   "codemirror_mode": {
    "name": "ipython",
    "version": 3
   },
   "file_extension": ".py",
   "mimetype": "text/x-python",
   "name": "python",
   "nbconvert_exporter": "python",
   "pygments_lexer": "ipython3",
   "version": "3.12.0"
  }
 },
 "nbformat": 4,
 "nbformat_minor": 5
}
