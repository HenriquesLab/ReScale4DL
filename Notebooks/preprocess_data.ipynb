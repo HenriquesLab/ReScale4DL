{
 "cells": [
  {
   "cell_type": "markdown",
   "metadata": {},
   "source": [
    "# Install requirements"
   ]
  },
  {
   "cell_type": "code",
   "execution_count": null,
   "metadata": {},
   "outputs": [],
   "source": [
    "!pip install nanopyx"
   ]
  },
  {
   "cell_type": "markdown",
   "metadata": {},
   "source": [
    "# Select input path"
   ]
  },
  {
   "cell_type": "code",
   "execution_count": 7,
   "metadata": {},
   "outputs": [
    {
     "name": "stderr",
     "output_type": "stream",
     "text": [
      "2024-02-27 14:49:41.523 python[91737:51772830] +[CATransaction synchronize] called within transaction\n",
      "2024-02-27 14:49:41.565 python[91737:51772830] +[CATransaction synchronize] called within transaction\n",
      "2024-02-27 14:49:45.248 python[91737:51772830] +[CATransaction synchronize] called within transaction\n",
      "2024-02-27 14:49:45.275 python[91737:51772830] +[CATransaction synchronize] called within transaction\n",
      "2024-02-27 14:49:46.556 python[91737:51772830] +[CATransaction synchronize] called within transaction\n"
     ]
    }
   ],
   "source": [
    "from tkinter import filedialog as fd\n",
    "\n",
    "input_path = fd.askdirectory()"
   ]
  },
  {
   "cell_type": "markdown",
   "metadata": {},
   "source": [
    "# Setup preprocessing parameters"
   ]
  },
  {
   "cell_type": "code",
   "execution_count": 10,
   "metadata": {},
   "outputs": [],
   "source": [
    "downsampling_factor = [2,]\n",
    "upsampling_factor = [2]\n",
    "gaussians = [1]\n",
    "modes = [\"mean\"]"
   ]
  },
  {
   "cell_type": "markdown",
   "metadata": {},
   "source": [
    "# Batch process the data"
   ]
  },
  {
   "cell_type": "code",
   "execution_count": 12,
   "metadata": {},
   "outputs": [
    {
     "name": "stdout",
     "output_type": "stream",
     "text": [
      "/Users/bsaraiva/Code/Downsampling/data/test/.DS_Store\n",
      "/Users/bsaraiva/Code/Downsampling/data/test/staph\n",
      "Querying the Agent...\n",
      "Agent: ShiftMagnify_catmull_rom using Threaded_dynamic ran in 0.007124291000081939 seconds\n",
      "Querying the Agent...\n",
      "Agent: ShiftMagnify_nearest_neighbor using Threaded_dynamic ran in 0.0088402500000484 seconds\n",
      "Querying the Agent...\n",
      "Agent: ShiftScaleRotate_catmull_rom using Threaded_guided ran in 0.004802625000138505 seconds\n",
      "Querying the Agent...\n",
      "Agent: ShiftScaleRotate_nearest_neighbor using Unthreaded ran in 0.0006234170000425365 seconds\n",
      "Consider adding default arguments to the njit implementation to trigger early compilation\n",
      "Querying the Agent...\n",
      "Agent: Conv2D using Threaded_dynamic ran in 0.0004936670000006416 seconds\n"
     ]
    }
   ],
   "source": [
    "from python_scripts.batch import process_all_datasets\n",
    "\n",
    "process_all_datasets(input_path, downsampling_factor, upsampling_factor, gaussians, modes=modes)"
   ]
  },
  {
   "cell_type": "code",
   "execution_count": null,
   "metadata": {},
   "outputs": [],
   "source": []
  }
 ],
 "metadata": {
  "language_info": {
   "name": "python"
  }
 },
 "nbformat": 4,
 "nbformat_minor": 2
}
