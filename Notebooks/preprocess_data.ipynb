{
 "cells": [
  {
   "cell_type": "markdown",
   "metadata": {},
   "source": [
    "# Data Rescaling Notebook\n",
    "\n",
    "This notebooks allows you to rescale images and their corresponding manual annotations for segmentation by the same factor. \n",
    "Parameters to specify: \n",
    "- `input_path`: The path to folder containing an \"images\" folder and a \"labels\" folder. Images inside both folders should have the same name.\n",
    "- `downsampling_factor`: list of downsampling factors. If none, leave it empty.\n",
    "- `downsampling_factor`: list of downsampling factors. If none, leave it empty.\n",
    "-  `gaussians`:\n",
    "-  `modes`: `[\"mean\"]`"
   ]
  },
  {
   "cell_type": "markdown",
   "metadata": {},
   "source": [
    "# Select input path"
   ]
  },
  {
   "cell_type": "code",
   "execution_count": 1,
   "metadata": {},
   "outputs": [
    {
     "name": "stdout",
     "output_type": "stream",
     "text": [
      "The history saving thread hit an unexpected error (OperationalError('attempt to write a readonly database')).History will not be written to the database.\n"
     ]
    },
    {
     "name": "stderr",
     "output_type": "stream",
     "text": [
      "2025-02-28 17:07:55.949 python[8389:123634] +[IMKClient subclass]: chose IMKClient_Modern\n",
      "2025-02-28 17:07:56.479 python[8389:123634] The class 'NSOpenPanel' overrides the method identifier.  This method is implemented by class 'NSWindow'\n"
     ]
    }
   ],
   "source": [
    "from tkinter import filedialog as fd\n",
    "\n",
    "input_path = fd.askdirectory()"
   ]
  },
  {
   "cell_type": "markdown",
   "metadata": {},
   "source": [
    "# Setup preprocessing parameters"
   ]
  },
  {
   "cell_type": "code",
   "execution_count": null,
   "metadata": {},
   "outputs": [],
   "source": [
    "downsampling_factor = [2,]\n",
    "upsampling_factor = [2]\n",
    "gaussians = [1]\n",
    "modes = [\"mean\"]"
   ]
  },
  {
   "cell_type": "markdown",
   "metadata": {},
   "source": [
    "# Batch process the data"
   ]
  },
  {
   "cell_type": "code",
   "execution_count": null,
   "metadata": {},
   "outputs": [],
   "source": [
    "from python_scripts.batch import process_all_datasets\n",
    "\n",
    "process_all_datasets(input_path, downsampling_factor, upsampling_factor, gaussians, modes=modes)"
   ]
  },
  {
   "cell_type": "code",
   "execution_count": null,
   "metadata": {},
   "outputs": [],
   "source": []
  }
 ],
 "metadata": {
  "kernelspec": {
   "display_name": "Python 3 (ipykernel)",
   "language": "python",
   "name": "python3"
  },
  "language_info": {
   "codemirror_mode": {
    "name": "ipython",
    "version": 3
   },
   "file_extension": ".py",
   "mimetype": "text/x-python",
   "name": "python",
   "nbconvert_exporter": "python",
   "pygments_lexer": "ipython3",
   "version": "3.12.2"
  }
 },
 "nbformat": 4,
 "nbformat_minor": 4
}
