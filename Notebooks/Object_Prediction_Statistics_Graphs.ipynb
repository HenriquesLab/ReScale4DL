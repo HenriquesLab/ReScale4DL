{
 "cells": [
  {
   "cell_type": "markdown",
   "metadata": {},
   "source": [
    "# Statistics from label images"
   ]
  },
  {
   "cell_type": "code",
   "execution_count": 1,
   "metadata": {},
   "outputs": [],
   "source": [
    "#Import required libraries\n",
    "import os\n",
    "import python_scripts.morphology as morph"
   ]
  },
  {
   "cell_type": "markdown",
   "metadata": {},
   "source": [
    "## Provide user defined variables\n",
    "\n",
    "- Use **absolute pathing** for main directory\n",
    "- Subdirectories will be automatically identified and scanned\n",
    "- Graphs and tables will be stored inside a Results folder in the main directory\n",
    "\n",
    "- The properties variable is a list of properties to calculate for each region. Defaults to ['label', 'area', 'eccentricity',  'perimeter', 'equivalent_diameter_area', 'axis_major_length', 'axis_minor_length', 'area_filled']\n"
   ]
  },
  {
   "cell_type": "markdown",
   "metadata": {},
   "source": [
    "### User defined variables"
   ]
  },
  {
   "cell_type": "code",
   "execution_count": 2,
   "metadata": {},
   "outputs": [],
   "source": [
    "# Directory with folders of sampling folders with GT and Prediction folder pairs inside\n",
    "# Expected file arrangement: given_folder contains the OG and downsampling_2 folders, then each of those contains GT and Prediction folders\n",
    "directory = '/Users/marianaferreira/Library/CloudStorage/OneDrive-igc.gulbenkian.pt/OCB/Downsampling/Analysis_folders_QC/Saureus'\n",
    "\n",
    "# User defined properties to calculate using region.props\n",
    "properties =['label', 'area', 'eccentricity',  'perimeter', 'equivalent_diameter_area','axis_major_length', 'axis_minor_length', 'area_filled']\n",
    "\n",
    "#Pixel size in calibrated units use spacing = (1,1) for images with unknown calibration\n",
    "#spacing = (0.0322421, 0.0322421) #Saureus\n",
    "spacing = (1, 1)\n",
    "\n",
    "# Dictionary identifying sampling multipliers according to folder names\n",
    "folder_sampling_dict = {'upsampling_16': 16, 'upsampling_8': 8, 'upsampling_4': 4,'upsampling_2': 2, 'OG': 1, 'downsampling_2': 1/2, 'downsampling_4': 1/4, 'downsampling_8': 1/8, 'downsampling_16': 1/16}\n",
    "\n",
    "# List of possible columns to plot in graphs\n",
    "cols_to_plot = ['Circularity', 'Roundness', 'Filledness', 'Pixel_Coverage_Percent', 'norm_area', 'norm_perimeter', 'IoU', 'f1_score']"
   ]
  },
  {
   "cell_type": "code",
   "execution_count": 3,
   "metadata": {},
   "outputs": [],
   "source": [
    "# Create folder to store results if it doesn't exist\n",
    "res_dir = os.path.join(directory, 'Results')\n",
    "\n",
    "if not os.path.exists(res_dir):\n",
    "    os.mkdir(res_dir)"
   ]
  },
  {
   "cell_type": "markdown",
   "metadata": {},
   "source": [
    "### Statistics"
   ]
  },
  {
   "cell_type": "code",
   "execution_count": 4,
   "metadata": {},
   "outputs": [],
   "source": [
    "#Calculate object properties statistics\n",
    "obj_props_df = morph.object_props(directory, properties, spacing, folder_sampling_dict)\n",
    "\n",
    "# Save object properties statistics in csv file\n",
    "obj_props_df.to_csv(os.path.join(res_dir, directory.split('/')[-1] +'_region_props.csv'))    \n",
    "\n",
    "# Get list of parent folders from the object properties dataframe\n",
    "parent_folder_dict = morph.parent_folder_dict(obj_props_df)\n",
    "\n",
    "# Calculate prediction statistics\n",
    "pred_stats_df = morph.prediction_statistics(parent_folder_dict, directory)\n",
    "\n",
    "# Save prediction statistics in csv file\n",
    "pred_stats_df.to_csv(os.path.join(res_dir, directory.split('/')[-1] +'_prediction_stats.csv'))  \n",
    "\n"
   ]
  },
  {
   "cell_type": "code",
   "execution_count": null,
   "metadata": {},
   "outputs": [],
   "source": [
    "\n",
    "summary_df, IoU_per_obj_df = morph.per_object_statistics(directory, res_dir, obj_props_df)\n",
    "\n",
    "# Save summary statistics in csv file\n",
    "summary_df.to_csv(os.path.join(res_dir, directory.split('/')[-1] +'_summary_stats.csv'))    \n",
    "\n",
    "# Save IoU per object statistics in csv file\n",
    "IoU_per_obj_df.to_csv(os.path.join(res_dir, directory.split('/')[-1] +'_IoU_per_obj_stats.csv'))\n"
   ]
  },
  {
   "cell_type": "markdown",
   "metadata": {},
   "source": [
    "### Graph"
   ]
  },
  {
   "cell_type": "code",
   "execution_count": null,
   "metadata": {},
   "outputs": [],
   "source": [
    "for col in cols_to_plot:\n",
    "    if col in obj_props_df.columns:\n",
    "        if col == 'Pixel_Coverage_Percent':\n",
    "            morph.generate_basic_plot(res_dir, obj_props_df, folder_sampling_dict, col, 'box_no_outliers', True)\n",
    "        else:    \n",
    "            morph.generate_basic_plot(res_dir, obj_props_df, folder_sampling_dict, col, 'box_no_outliers', False)\n",
    "\n",
    "for col in ['IoU', 'f1_score']:\n",
    "    morph.generate_basic_plot(res_dir, pred_stats_df, folder_sampling_dict, col, 'strip', False, None)\n",
    "\n",
    "for col in ['Mean_IoU', 'Mean_f1_score','true_positives_count', 'false_positives_count', 'false_negatives_count', 'Accuracy', 'Sensitivity']:\n",
    "    morph.generate_basic_plot(res_dir, summary_df, folder_sampling_dict, col, 'strip', False, None)\n",
    "    \n"
   ]
  }
 ],
 "metadata": {
  "kernelspec": {
   "display_name": "seaborn",
   "language": "python",
   "name": "python3"
  },
  "language_info": {
   "codemirror_mode": {
    "name": "ipython",
    "version": 3
   },
   "file_extension": ".py",
   "mimetype": "text/x-python",
   "name": "python",
   "nbconvert_exporter": "python",
   "pygments_lexer": "ipython3",
   "version": "3.12.2"
  }
 },
 "nbformat": 4,
 "nbformat_minor": 2
}
