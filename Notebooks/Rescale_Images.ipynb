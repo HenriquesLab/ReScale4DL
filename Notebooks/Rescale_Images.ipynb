{
 "cells": [
  {
   "cell_type": "markdown",
   "metadata": {},
   "source": [
    "# Prepare rescaled images and their corresponding masks\n",
    "\n",
    "This notebook allows you to rescale images and their corresponding manual annotations for segmentation by the same factor. \n",
    "Parameters to specify:\n",
    "1. **INPUT_DIR**  \n",
    "   - Path to the folder containing the input images and the annotations, stored as `.tif`files.\n",
    "   - It expects the following structure:\n",
    "       - Input directory:\n",
    "           - Sample (e.g., `staph`)\n",
    "               - `Images`\n",
    "                   - `1.tif`\n",
    "                   - `2.tif`\n",
    "                   - `3.tif`\n",
    "               - `Labels`\n",
    "                   - `1.tif`\n",
    "                   - `2.tif`\n",
    "                   - `3.tif`\n",
    "   - Example: `/path/to/your/input`\n",
    "2. **DOWNSAMPLE_FACTORS**  \n",
    "   - A list of demagnification factors (downsampling) used for rescaling the image.  \n",
    "   - Example: `2` means the image will be scaled down by a factor of 2.\n",
    "   - Example: `DOWNSAMPLE_FACTORS = [2]`\n",
    "3. **UPSAMPLE_FACTORS**  \n",
    "   - A list of magnification factors (downsampling) used for rescaling the image.  \n",
    "   - Example: `2` means the image will be scaled up by a factor of 2.\n",
    "   - Example: `UPSAMPLE_FACTORS = [2]`\n",
    "4. **GAUSSIANS**  \n",
    "   - A list of standard deviations to apply Gaussian deblurring. Creates new folders to store the results.\n",
    "   - Example: `2` means the image will be scaled up by a factor of 2.\n",
    "   - Example: `GAUSSIANS = [1]`\n",
    "5. **MODES**  \n",
    "   - It refers to the method for pixel value calculation when downsampling an image. \n",
    "   - Can be either `\"sum\"` or `\"mean\"`, and defaults to `\"sum\"` if not specified or not a valid mode. \n",
    "   - Example: `MODES = [\"mean\"]`\n",
    "\n",
    "\n",
    "\n",
    "\n",
    "\n",
    "**Expected output**:\n",
    "- The notebook will create a new folder (`Processed`) outside `INPUT_DIR` with subfolders for each of the specified parameter (up and downsacling and gaussian deblurring). \n",
    "- When rescaling an image, one can decide to keep or not the same number of pixels. The code will contemplate and save both:\n",
    "    - Keep the same number of dimensions (folder ending with `same_dims`): changes the image resolution by rescaling the image, but it keeps the same number of pixels and therefore alters the size of the field of view in the image. When downscaling the image, the code will generate a zero padding to maitain the size in pixels of the original image.\n",
    "    - Change the number of image dimensions accordingly (`diff_dims`): changes the image resolution and preserves the original field of view, therefore the resulting image will be bigger when upsampling it, and smaller when downsampling it. "
   ]
  },
  {
   "cell_type": "markdown",
   "metadata": {},
   "source": [
    "### 1. Import Dependencies"
   ]
  },
  {
   "cell_type": "code",
   "execution_count": null,
   "metadata": {},
   "outputs": [],
   "source": [
    "from rescale4dl.batch import process_all_datasets"
   ]
  },
  {
   "cell_type": "markdown",
   "metadata": {},
   "source": [
    "### 2. Setup preprocessing parameters"
   ]
  },
  {
   "cell_type": "code",
   "execution_count": 11,
   "metadata": {},
   "outputs": [],
   "source": [
    "INPUT_DIR = \"/path/to/your/input/\" #fd.askdirectory()\n",
    "DOWNSAMPLE_FACTORS = [2]\n",
    "UPSAMPLE_FACTORS = [2]\n",
    "GAUSSIANS = [1]\n",
    "MODES = [\"mean\"]"
   ]
  },
  {
   "cell_type": "markdown",
   "metadata": {},
   "source": [
    "### 3. Batch process the data"
   ]
  },
  {
   "cell_type": "code",
   "execution_count": 13,
   "metadata": {},
   "outputs": [
    {
     "name": "stdout",
     "output_type": "stream",
     "text": [
      "Querying the Agent...\n",
      "Agent chose: threaded\n",
      "Agent: ShiftMagnify_catmull_rom using threaded ran in 0.06852341699413955 seconds\n",
      "Querying the Agent...\n",
      "Agent chose: threaded\n",
      "Agent: ShiftMagnify_nearest_neighbor using threaded ran in 0.0035338749876245856 seconds\n",
      "Querying the Agent...\n",
      "Agent chose: threaded_dynamic\n",
      "Agent: ShiftScaleRotate_catmull_rom using threaded_dynamic ran in 0.002522750000935048 seconds\n",
      "Querying the Agent...\n",
      "Agent chose: threaded_static\n",
      "Agent: ShiftScaleRotate_nearest_neighbor using threaded_static ran in 0.0006241659866645932 seconds\n",
      "Querying the Agent...\n",
      "Agent chose: threaded_static\n",
      "Agent: Conv2D using threaded_static ran in 0.0006949999951757491 seconds\n"
     ]
    }
   ],
   "source": [
    "process_all_datasets(input_path, downsampling_factor, upsampling_factor, gaussians, modes=modes)"
   ]
  }
 ],
 "metadata": {
  "kernelspec": {
   "display_name": "Python 3 (ipykernel)",
   "language": "python",
   "name": "python3"
  },
  "language_info": {
   "codemirror_mode": {
    "name": "ipython",
    "version": 3
   },
   "file_extension": ".py",
   "mimetype": "text/x-python",
   "name": "python",
   "nbconvert_exporter": "python",
   "pygments_lexer": "ipython3",
   "version": "3.12.0"
  }
 },
 "nbformat": 4,
 "nbformat_minor": 4
}
